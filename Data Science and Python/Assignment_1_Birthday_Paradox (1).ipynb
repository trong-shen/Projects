{
  "nbformat": 4,
  "nbformat_minor": 0,
  "metadata": {
    "kernelspec": {
      "display_name": "Python 3",
      "language": "python",
      "name": "python3"
    },
    "language_info": {
      "codemirror_mode": {
        "name": "ipython",
        "version": 3
      },
      "file_extension": ".py",
      "mimetype": "text/x-python",
      "name": "python",
      "nbconvert_exporter": "python",
      "pygments_lexer": "ipython3",
      "version": "3.6.6"
    },
    "toc": {
      "base_numbering": 1,
      "nav_menu": {},
      "number_sections": true,
      "sideBar": true,
      "skip_h1_title": true,
      "title_cell": "Table of Contents",
      "title_sidebar": "Contents",
      "toc_cell": false,
      "toc_position": {},
      "toc_section_display": true,
      "toc_window_display": false
    },
    "colab": {
      "name": "Assignment 1 - Birthday Paradox.ipynb",
      "provenance": [],
      "collapsed_sections": []
    }
  },
  "cells": [
    {
      "cell_type": "markdown",
      "metadata": {
        "id": "InNeMWhksWGu",
        "colab_type": "text"
      },
      "source": [
        "# Assignment 1 - Intro to Python"
      ]
    },
    {
      "cell_type": "markdown",
      "metadata": {
        "id": "Lx5YccnCsWGw",
        "colab_type": "text"
      },
      "source": [
        "### Medium complexity - Birthday Paradox"
      ]
    },
    {
      "cell_type": "markdown",
      "metadata": {
        "id": "mKNyxjEZsWG2",
        "colab_type": "text"
      },
      "source": [
        "Birthday paradox concerns the probability that, in a set of `n` randomly chosen people, some pair of them will have the same birthday. You can read about this problem at https://en.wikipedia.org/wiki/Birthday_problem.\n",
        "\n",
        "Write a function called **`has_duplicates()`**, that takes a list and returns `True` if there is any element that appears more than once. It should not modify the original list.\n",
        "\n",
        "If there are 45 students in the class, what are the chances that any two students will have the same birthday? You can estimate this probability by generating random samples of 45 birthdays and checking for matches.\n",
        "\n",
        "**Hints:**\n",
        "1. you can generate random birthdays with the `randint` function in the `random` module. \n",
        "2. For simplicity, use the day number of the year, not the actual date\n",
        "3. you can use the book solution as a starting point for this assignment: https://github.com/AllenDowney/ThinkPython2/blob/master/code/birthday.py or http://greenteapress.com/thinkpython2/code/birthday.py\n",
        "\n",
        "The code should print out: \n",
        "- number of students\n",
        "- number of iterations/samples\n",
        "- list of duplicate days for each iteration, where duplicates are found\n",
        "- probability"
      ]
    },
    {
      "cell_type": "markdown",
      "metadata": {
        "id": "dGTu8K_NPbwM",
        "colab_type": "text"
      },
      "source": [
        "\n",
        "### Defining a class below called bdays\n",
        "#### Defining two attributes:\n",
        "* Itself\n",
        "* List of the birthdays\n",
        "\n",
        "\n",
        "####*Defining 4 methods: \n",
        "One counting number of students and the other one return if there is duplicate \n",
        "\n",
        "*  number (): Counting number of students\n",
        "* list_of_repeats(): Return dictionary of repeats and their indices as keys\n",
        "* has_duplicates(): Return yes or no and the dictionary of duplicates\n",
        "* has_3_duplicates: Return yes or no and the dictionary of triplicates"
      ]
    },
    {
      "cell_type": "code",
      "metadata": {
        "id": "OSe-Z4rRsWG3",
        "colab_type": "code",
        "colab": {}
      },
      "source": [
        "class bdays: #Define a class called bdays\n",
        "  def __init__(self,list_bdays): #define itself\n",
        "    self.list_bdays=list_bdays\n",
        "\n",
        "  def number(self): #define the first method \n",
        "    self.number=len(self.list_bdays) #Calculates the number of birthdays in the list\n",
        "  \n",
        "  def list_of_repeats (self): #Define the second method list of repeats. \n",
        "    #Return a list of repeats in a form of dictionary with the keys being the birthday\n",
        "    #And the values being the postiion of the repeats\n",
        "    list_repeats={};\n",
        "    for x in self.list_bdays: #Looping through all the element in the list to find all the repeat in birthdays\n",
        "      if (self.list_bdays).count(x)>1 and x not in list(list_repeats.keys()):\n",
        "        list_repeats[x]=[];\n",
        "        c=0; #Intiate a counter to find the next occurance of the repeat\n",
        "        while c<(len(self.list_bdays)-1) and x in self.list_bdays[c+1:]: #Propogate the dictionary\n",
        "          if (self.list_bdays).index(x)==0:            \n",
        "            list_repeats[x]=[(self.list_bdays).index(x)];\n",
        "          d=(self.list_bdays).index(x,c+1,len(self.list_bdays));\n",
        "          (list_repeats[x]).append(d);\n",
        "          c=d;\n",
        "    return list_repeats\n",
        "  \n",
        "  def has_duplicates(self): #Define the third method which checks the list_of_repeats output if there are duplciates if so what are they\n",
        "    list_repeats=self.list_of_repeats();\n",
        "    duplicate_only={};\n",
        "    for x in list_repeats:\n",
        "      if len(list_repeats[x])==2:\n",
        "        duplicate_only[x]=list_repeats[x]; \n",
        "    if duplicate_only!={}:\n",
        "      return True, duplicate_only\n",
        "    else:\n",
        "      return False ,[]\n",
        "      \n",
        "\n",
        "  def has_3_duplicates(self): #Define the fourth method which checks the list_of_repeats output if there are triplicates if so what are they\n",
        "    list_repeats=self.list_of_repeats();\n",
        "    triplicate_only={};\n",
        "    for x in list_repeats:\n",
        "      if len(list_repeats[x])==3:\n",
        "        triplicate_only[x]=list_repeats[x]; \n",
        "    if triplicate_only!={}:\n",
        "      return True, triplicate_only\n",
        "    else:\n",
        "      return False,[]\n",
        "\n"
      ],
      "execution_count": 0,
      "outputs": []
    },
    {
      "cell_type": "markdown",
      "metadata": {
        "id": "u48mkxu9ZMJz",
        "colab_type": "text"
      },
      "source": [
        "### Now we have defined the class, it's time to define the script that utilizes the class bdays. We will create a function with input :\n",
        "* On how many random classes we are producting (number of iterations)\n",
        "* number of students\n",
        "\n",
        "### The function will output:\n",
        "* list of duplicate days for each iteration, where duplicates are found\n",
        "* Probability of having a duplicate birthdays in a class\n"
      ]
    },
    {
      "cell_type": "code",
      "metadata": {
        "id": "pcHpxDLi2aNY",
        "colab_type": "code",
        "colab": {}
      },
      "source": [
        "def prob_bdays(num_class,num_student): #Define a function to calculate probabiliy and the list of duplicates\n",
        "  import random\n",
        "  duplicates=[];\n",
        "  counter=0;\n",
        "  for i in range(0,num_class): #Iterate through all number of classes/iterations\n",
        "    bdays_list=[];\n",
        "    for b in range (0,num_student): #Iterate throough each student to randomly create its birtdahy \n",
        "      bday=random.randint(1,365);\n",
        "      bdays_list.append(bday);\n",
        "    class_1=bdays(bdays_list);\n",
        "    answer,list_bday=class_1.has_duplicates(); #Utilize the class created to have whether there is duplicate and output list if duplicates\n",
        "    if answer==True: #If true count this class as having a match\n",
        "      counter=counter+1;\n",
        "      duplicates.append([i+1,list_bday])\n",
        "  Prob=counter/num_class; #Number of matches divided by the number of classes surveyed\n",
        "  return Prob,duplicates"
      ],
      "execution_count": 0,
      "outputs": []
    },
    {
      "cell_type": "markdown",
      "metadata": {
        "id": "KGmQvglSAIg_",
        "colab_type": "text"
      },
      "source": [
        "### Creating a while loop to determine the minimum iteration number to result in the analytical solution"
      ]
    },
    {
      "cell_type": "code",
      "metadata": {
        "id": "Da34RW64WFUt",
        "colab_type": "code",
        "outputId": "0f538804-5b13-4108-ec5d-cf6c727913ef",
        "colab": {
          "base_uri": "https://localhost:8080/",
          "height": 68
        }
      },
      "source": [
        "Previous=1000; #Intiate some parameters for the for-loop\n",
        "Diff=1;\n",
        "num_class=1;\n",
        "while Diff>=0.0001: #Exist for loop if subsequent probabilty calculation has a diff less than 0.0001\n",
        "  Prob,duplicates=prob_bdays(num_class,45);\n",
        "  Diff=abs(Previous-Prob)\n",
        "  Previous=Prob; #Update Previous to the current prob\n",
        "  num_class=num_class+10;# Stepping iteration of 10 \n",
        "print(num_class) #Print number of classes\n",
        "print(Prob) #Print the probability \n",
        "duplicates[0] #Printing out duplicate of the first occurrence to show list of duplicates"
      ],
      "execution_count": 0,
      "outputs": [
        {
          "output_type": "stream",
          "text": [
            "21\n",
            "1.0\n"
          ],
          "name": "stdout"
        },
        {
          "output_type": "execute_result",
          "data": {
            "text/plain": [
              "[1, {33: [14, 41]}]"
            ]
          },
          "metadata": {
            "tags": []
          },
          "execution_count": 19
        }
      ]
    },
    {
      "cell_type": "code",
      "metadata": {
        "id": "8VwpoCucGlmC",
        "colab_type": "code",
        "outputId": "d49ae72b-8d40-4aa1-978f-fa693662df30",
        "colab": {
          "base_uri": "https://localhost:8080/",
          "height": 513
        }
      },
      "source": [
        "#Creating a plot of num_class vs probability\n",
        "#Creating a list of incemental number of students \n",
        "num_student=list(range(1,101,1));\n",
        "prob_list=[];\n",
        "for b in num_student:\n",
        "  Prob,duplicate=prob_bdays(2000,b);\n",
        "  prob_list.append(Prob) # going for 1000 iterations\n",
        "import matplotlib.pyplot as plt\n",
        "plt.figure(figsize=(8,8),facecolor='w')\n",
        "plt.plot(num_student,prob_list)\n",
        "plt.xlabel('Number of Student in the Class')\n",
        "plt.ylabel('Probability of Duplicate')\n",
        "plt.title ('Birthday Problem')\n",
        "plt.show()"
      ],
      "execution_count": 0,
      "outputs": [
        {
          "output_type": "display_data",
          "data": {
            "image/png": "[encoded data removed]",
            "text/plain": [
              "<Figure size 576x576 with 1 Axes>"
            ]
          },
          "metadata": {
            "tags": []
          }
        }
      ]
    },
    {
      "cell_type": "code",
      "metadata": {
        "id": "EiKqbuycKb7w",
        "colab_type": "code",
        "colab": {}
      },
      "source": [
        ""
      ],
      "execution_count": 0,
      "outputs": []
    }
  ]
}