{
  "nbformat": 4,
  "nbformat_minor": 0,
  "metadata": {
    "colab": {
      "name": "Assignment 2: Cleaning Titanic Data",
      "provenance": [],
      "collapsed_sections": []
    },
    "kernelspec": {
      "name": "python3",
      "display_name": "Python 3"
    }
  },
  "cells": [
    {
      "cell_type": "code",
      "metadata": {
        "id": "WxYtGgvA3zmI",
        "colab_type": "code",
        "colab": {}
      },
      "source": [
        "import pandas as pd\n",
        "import numpy as np\n",
        "df=pd.read_csv('https://raw.githubusercontent.com/trong-shen/Python/master/train.csv')"
      ],
      "execution_count": 0,
      "outputs": []
    },
    {
      "cell_type": "code",
      "metadata": {
        "id": "CxiYUvuy36kv",
        "colab_type": "code",
        "outputId": "60548839-c811-4827-a23a-e5c140a44254",
        "colab": {
          "base_uri": "https://localhost:8080/",
          "height": 194
        }
      },
      "source": [
        "df.head()"
      ],
      "execution_count": 0,
      "outputs": [
        {
          "output_type": "execute_result",
          "data": {
            "text/html": [
              "<div>\n",
              "<style scoped>\n",
              "    .dataframe tbody tr th:only-of-type {\n",
              "        vertical-align: middle;\n",
              "    }\n",
              "\n",
              "    .dataframe tbody tr th {\n",
              "        vertical-align: top;\n",
              "    }\n",
              "\n",
              "    .dataframe thead th {\n",
              "        text-align: right;\n",
              "    }\n",
              "</style>\n",
              "<table border=\"1\" class=\"dataframe\">\n",
              "  <thead>\n",
              "    <tr style=\"text-align: right;\">\n",
              "      <th></th>\n",
              "      <th>PassengerId</th>\n",
              "      <th>Survived</th>\n",
              "      <th>Pclass</th>\n",
              "      <th>Name</th>\n",
              "      <th>Sex</th>\n",
              "      <th>Age</th>\n",
              "      <th>SibSp</th>\n",
              "      <th>Parch</th>\n",
              "      <th>Ticket</th>\n",
              "      <th>Fare</th>\n",
              "      <th>Cabin</th>\n",
              "      <th>Embarked</th>\n",
              "    </tr>\n",
              "  </thead>\n",
              "  <tbody>\n",
              "    <tr>\n",
              "      <th>0</th>\n",
              "      <td>1</td>\n",
              "      <td>0</td>\n",
              "      <td>3</td>\n",
              "      <td>Braund, Mr. Owen Harris</td>\n",
              "      <td>male</td>\n",
              "      <td>22.0</td>\n",
              "      <td>1</td>\n",
              "      <td>0</td>\n",
              "      <td>A/5 21171</td>\n",
              "      <td>7.2500</td>\n",
              "      <td>NaN</td>\n",
              "      <td>S</td>\n",
              "    </tr>\n",
              "    <tr>\n",
              "      <th>1</th>\n",
              "      <td>2</td>\n",
              "      <td>1</td>\n",
              "      <td>1</td>\n",
              "      <td>Cumings, Mrs. John Bradley (Florence Briggs Th...</td>\n",
              "      <td>female</td>\n",
              "      <td>38.0</td>\n",
              "      <td>1</td>\n",
              "      <td>0</td>\n",
              "      <td>PC 17599</td>\n",
              "      <td>71.2833</td>\n",
              "      <td>C85</td>\n",
              "      <td>C</td>\n",
              "    </tr>\n",
              "    <tr>\n",
              "      <th>2</th>\n",
              "      <td>3</td>\n",
              "      <td>1</td>\n",
              "      <td>3</td>\n",
              "      <td>Heikkinen, Miss. Laina</td>\n",
              "      <td>female</td>\n",
              "      <td>26.0</td>\n",
              "      <td>0</td>\n",
              "      <td>0</td>\n",
              "      <td>STON/O2. 3101282</td>\n",
              "      <td>7.9250</td>\n",
              "      <td>NaN</td>\n",
              "      <td>S</td>\n",
              "    </tr>\n",
              "    <tr>\n",
              "      <th>3</th>\n",
              "      <td>4</td>\n",
              "      <td>1</td>\n",
              "      <td>1</td>\n",
              "      <td>Futrelle, Mrs. Jacques Heath (Lily May Peel)</td>\n",
              "      <td>female</td>\n",
              "      <td>35.0</td>\n",
              "      <td>1</td>\n",
              "      <td>0</td>\n",
              "      <td>113803</td>\n",
              "      <td>53.1000</td>\n",
              "      <td>C123</td>\n",
              "      <td>S</td>\n",
              "    </tr>\n",
              "    <tr>\n",
              "      <th>4</th>\n",
              "      <td>5</td>\n",
              "      <td>0</td>\n",
              "      <td>3</td>\n",
              "      <td>Allen, Mr. William Henry</td>\n",
              "      <td>male</td>\n",
              "      <td>35.0</td>\n",
              "      <td>0</td>\n",
              "      <td>0</td>\n",
              "      <td>373450</td>\n",
              "      <td>8.0500</td>\n",
              "      <td>NaN</td>\n",
              "      <td>S</td>\n",
              "    </tr>\n",
              "  </tbody>\n",
              "</table>\n",
              "</div>"
            ],
            "text/plain": [
              "   PassengerId  Survived  Pclass  ...     Fare Cabin  Embarked\n",
              "0            1         0       3  ...   7.2500   NaN         S\n",
              "1            2         1       1  ...  71.2833   C85         C\n",
              "2            3         1       3  ...   7.9250   NaN         S\n",
              "3            4         1       1  ...  53.1000  C123         S\n",
              "4            5         0       3  ...   8.0500   NaN         S\n",
              "\n",
              "[5 rows x 12 columns]"
            ]
          },
          "metadata": {
            "tags": []
          },
          "execution_count": 3
        }
      ]
    },
    {
      "cell_type": "code",
      "metadata": {
        "id": "6q4-1iG04GNO",
        "colab_type": "code",
        "outputId": "bd267d86-22a6-4a68-ff2e-a056667fea06",
        "colab": {
          "base_uri": "https://localhost:8080/",
          "height": 319
        }
      },
      "source": [
        "df.info()\n",
        "\n",
        "#drop the PassengerID column\n",
        "df.drop('PassengerId',axis=1,inplace=True)"
      ],
      "execution_count": 0,
      "outputs": [
        {
          "output_type": "stream",
          "text": [
            "<class 'pandas.core.frame.DataFrame'>\n",
            "RangeIndex: 891 entries, 0 to 890\n",
            "Data columns (total 12 columns):\n",
            "PassengerId    891 non-null int64\n",
            "Survived       891 non-null int64\n",
            "Pclass         891 non-null int64\n",
            "Name           891 non-null object\n",
            "Sex            891 non-null object\n",
            "Age            714 non-null float64\n",
            "SibSp          891 non-null int64\n",
            "Parch          891 non-null int64\n",
            "Ticket         891 non-null object\n",
            "Fare           891 non-null float64\n",
            "Cabin          204 non-null object\n",
            "Embarked       889 non-null object\n",
            "dtypes: float64(2), int64(5), object(5)\n",
            "memory usage: 83.7+ KB\n"
          ],
          "name": "stdout"
        }
      ]
    },
    {
      "cell_type": "code",
      "metadata": {
        "id": "X1Q_kAFw60q0",
        "colab_type": "code",
        "colab": {}
      },
      "source": [
        "#Change varaibles to categories\n",
        "df.Survived=df.Survived.astype('category')\n",
        "df.Pclass=df.Pclass.astype('category')\n",
        "df.Sex=df.Sex.astype('category')\n",
        "df.SibSp=df.SibSp.astype('category')\n",
        "df.Parch=df.Parch.astype('category')\n",
        "df.Embarked=df.Embarked.astype('category')"
      ],
      "execution_count": 0,
      "outputs": []
    },
    {
      "cell_type": "markdown",
      "metadata": {
        "id": "4ifaJPWvy17z",
        "colab_type": "text"
      },
      "source": [
        "Question 3: Engineering Attributes by splitting exisitng attributes"
      ]
    },
    {
      "cell_type": "code",
      "metadata": {
        "id": "F9AU2fJq8SJY",
        "colab_type": "code",
        "colab": {}
      },
      "source": [
        "#Separate Name column into \"Title\", \"First Name\", \"Last Name\"\n",
        "#Separate Ticket column into \"Ticket-Letter Code\", \"Ticket-Numer\"\n",
        "#Separate Cabin Number into Cabin letter (Deck Number) and Number\n",
        "import re\n",
        "Name_split=re.compile(\"[\\.,]\")\n",
        "First_Middle=[];\n",
        "Lastname=[];\n",
        "Title=[];\n",
        "\n",
        "Ticket_split=re.compile(\"\\s+\")\n",
        "Ticket_Letter=[];\n",
        "Ticket_Number=[];\n",
        "\n",
        "Cabin_name=re.compile(\"(\\d+)\")\n",
        "cabin_letter=[];\n",
        "cabin_numbers=[];\n",
        "\n",
        "for i in range(0,len(df)):\n",
        "  #name split\n",
        "  name=Name_split.split(df.Name[i]);\n",
        "  Lastname.append(name[0])\n",
        "  Title.append(name[1][1:])\n",
        "  First_Middle.append(name[2])\n",
        "  #ticket split\n",
        "  ticket=Ticket_split.split(df.Ticket[i])\n",
        "  if len(ticket)>1:\n",
        "    Ticket_Letter.append(ticket[0])\n",
        "    Ticket_Number.append(ticket[1])\n",
        "  else:\n",
        "    Ticket_Letter.append(float('nan'))\n",
        "    Ticket_Number.append(ticket[0])\n",
        "  #cabin number split\n",
        "  if type(df.Cabin[i])==float:\n",
        "    cabin_letter.append(float('nan'))\n",
        "    cabin_numbers.append(float('nan'))\n",
        "    continue\n",
        "  cabin=Cabin_name.split(df.Cabin[i])\n",
        "  cabin_letter.append(cabin[0])\n",
        "  cabin_number_sub_list=[];\n",
        "  for j in range(0,len(cabin)):\n",
        "    try:\n",
        "      num=float(cabin[j])\n",
        "    except ValueError:\n",
        "      continue\n",
        "    else:\n",
        "      cabin_number_sub_list.append(cabin[j])\n",
        "  cabin_numbers.append(cabin_number_sub_list)\n",
        "#Add the columns into the df\n",
        "df.insert(3,'Title',Title);\n",
        "df.insert(4,'First_Middle Name',First_Middle);\n",
        "df.insert(5,'Last_Name',Lastname);\n",
        "df.insert(11,'Ticket_Letter_Code',Ticket_Letter);\n",
        "df.insert(12,'Ticket_Number',Ticket_Number);\n",
        "df.insert(14,'Cabin_Letter',cabin_letter)\n",
        "df.insert(15,'Cabin_Number',cabin_numbers)\n",
        "\n",
        "#Drop the Name and Ticket columns\n",
        "df.drop('Name',axis=1,inplace=True)\n",
        "df.drop('Ticket',axis=1,inplace=True)\n",
        "df.drop('Cabin', axis=1,inplace=True)\n",
        "df.head()\n",
        "\n",
        "#Redefine Cabin_Letter as a category\n",
        "df.Cabin_Letter=df.Cabin_Letter.astype('category')"
      ],
      "execution_count": 0,
      "outputs": []
    },
    {
      "cell_type": "code",
      "metadata": {
        "id": "zHNIV3fx9lV8",
        "colab_type": "code",
        "outputId": "1ad3951c-4b9d-4b27-d2a6-60ed1a49438c",
        "colab": {
          "base_uri": "https://localhost:8080/",
          "height": 407
        }
      },
      "source": [
        "import matplotlib.pyplot as plt\n",
        "plt.hist(df['Age'])"
      ],
      "execution_count": 0,
      "outputs": [
        {
          "output_type": "stream",
          "text": [
            "/usr/local/lib/python3.6/dist-packages/numpy/lib/histograms.py:839: RuntimeWarning: invalid value encountered in greater_equal\n",
            "  keep = (tmp_a >= first_edge)\n",
            "/usr/local/lib/python3.6/dist-packages/numpy/lib/histograms.py:840: RuntimeWarning: invalid value encountered in less_equal\n",
            "  keep &= (tmp_a <= last_edge)\n"
          ],
          "name": "stderr"
        },
        {
          "output_type": "execute_result",
          "data": {
            "text/plain": [
              "(array([ 54.,  46., 177., 169., 118.,  70.,  45.,  24.,   9.,   2.]),\n",
              " array([ 0.42 ,  8.378, 16.336, 24.294, 32.252, 40.21 , 48.168, 56.126,\n",
              "        64.084, 72.042, 80.   ]),\n",
              " <a list of 10 Patch objects>)"
            ]
          },
          "metadata": {
            "tags": []
          },
          "execution_count": 7
        },
        {
          "output_type": "display_data",
          "data": {
            "image/png": "[encoded data removed]",
            "text/plain": [
              "<Figure size 432x288 with 1 Axes>"
            ]
          },
          "metadata": {
            "tags": []
          }
        }
      ]
    },
    {
      "cell_type": "code",
      "metadata": {
        "id": "4OkotDIc8_6f",
        "colab_type": "code",
        "outputId": "b31e8e24-c02e-404c-9e4f-f8ca8f4baaac",
        "colab": {
          "base_uri": "https://localhost:8080/",
          "height": 177
        }
      },
      "source": [
        "df['Age'].describe()"
      ],
      "execution_count": 0,
      "outputs": [
        {
          "output_type": "execute_result",
          "data": {
            "text/plain": [
              "count    714.000000\n",
              "mean      29.699118\n",
              "std       14.526497\n",
              "min        0.420000\n",
              "25%       20.125000\n",
              "50%       28.000000\n",
              "75%       38.000000\n",
              "max       80.000000\n",
              "Name: Age, dtype: float64"
            ]
          },
          "metadata": {
            "tags": []
          },
          "execution_count": 8
        }
      ]
    },
    {
      "cell_type": "markdown",
      "metadata": {
        "id": "bVr_Fr36GoH6",
        "colab_type": "text"
      },
      "source": [
        "**Question 4**\n",
        "\n",
        "There is 177 ages missing.\n",
        "Trying to extrapolate using the following strategy:\n",
        "*   Define the median age of boys with title master. Fill in the median age for any missing age in this group\n",
        "* For men with a Mister title(adult men), use the median age to fill in the rest  \n",
        "* For women, based on their title/martial status (Miss vs Mrs), fill in with the median age of Miss vs Mrs. \n",
        "* For Dr. replacing the missing doctor's age with the median.\n",
        "\n"
      ]
    },
    {
      "cell_type": "code",
      "metadata": {
        "id": "QXFU4Ywx9eyj",
        "colab_type": "code",
        "colab": {}
      },
      "source": [
        "#Find the median age of all rows with title master\n",
        "master_median=df[df['Title']=='Master'].Age.median()\n",
        "#Repalce Master with age Nan with Median\n",
        "Nan_Age=df.Age.isnull()\n",
        "Master_title=(df.Title=='Master')\n",
        "df.loc[Nan_Age & Master_title,'Age']=master_median\n",
        "\n",
        "#Find All rows with title Mr\n",
        "mister_median=df[df.Title=='Mr'].Age.median()\n",
        "#Replace Mister with age Nan with Median\n",
        "Mr_title=(df.Title=='Mr')\n",
        "df.loc[Nan_Age & Mr_title, 'Age']=mister_median\n",
        "\n",
        "#Find All rows with title Miss\n",
        "miss_median=df[df.Title=='Miss'].Age.median()\n",
        "#Replace Mister with age Nan with Median\n",
        "Miss_title=(df.Title=='Miss')\n",
        "df.loc[Nan_Age & Miss_title, 'Age']=miss_median\n",
        "\n",
        "#Find All rows with title Mrs\n",
        "mrs_median=df[df.Title=='Mrs'].Age.median()\n",
        "#Replace Mister with age Nan with Median\n",
        "Mrs_title=(df.Title=='Mrs')\n",
        "df.loc[Nan_Age & Mrs_title, 'Age']=mrs_median\n",
        "\n",
        "#Find All rows with title Doctor\n",
        "dr_median=df[df.Title=='Dr'].Age.median()\n",
        "#Replace Mister with age Nan with Median\n",
        "Dr_title=(df.Title=='Dr')\n",
        "df.loc[Nan_Age & Dr_title, 'Age']=dr_median\n"
      ],
      "execution_count": 0,
      "outputs": []
    },
    {
      "cell_type": "markdown",
      "metadata": {
        "id": "lIyrMIqbIoI3",
        "colab_type": "text"
      },
      "source": [
        "There are two embarked entries missing. Fill in the empty embarked fields with the mode of the whole data frame"
      ]
    },
    {
      "cell_type": "code",
      "metadata": {
        "id": "BYoPnVWDY26m",
        "colab_type": "code",
        "outputId": "bf0fa1cd-7b84-45c1-c104-3d95f9f8c253",
        "colab": {
          "base_uri": "https://localhost:8080/",
          "height": 603
        }
      },
      "source": [
        "import statistics as stat\n",
        "embarked_mode=stat.mode(df.Embarked)\n",
        "Nan_Embarked=df.Embarked.isnull()\n",
        "df.loc[Nan_Embarked,'Embarked']=embarked_mode;\n",
        "print(embarked_mode)\n",
        "#shows that there are no more missing data\n",
        "df.info()\n",
        "df.head()"
      ],
      "execution_count": 0,
      "outputs": [
        {
          "output_type": "stream",
          "text": [
            "S\n",
            "<class 'pandas.core.frame.DataFrame'>\n",
            "RangeIndex: 891 entries, 0 to 890\n",
            "Data columns (total 17 columns):\n",
            "Survived              891 non-null category\n",
            "Pclass                891 non-null category\n",
            "Title                 891 non-null object\n",
            "First_Middle Name     891 non-null object\n",
            "Last_Name             891 non-null object\n",
            "Sex                   891 non-null category\n",
            "Age                   891 non-null float64\n",
            "Age_Group             891 non-null category\n",
            "SibSp                 891 non-null category\n",
            "Parch                 891 non-null category\n",
            "Ticket_Letter_Code    226 non-null object\n",
            "Ticket_Number         891 non-null object\n",
            "Fare                  891 non-null float64\n",
            "Fare_Group            891 non-null category\n",
            "Cabin_Letter          204 non-null category\n",
            "Cabin_Number          204 non-null object\n",
            "Embarked              891 non-null category\n",
            "dtypes: category(9), float64(2), object(6)\n",
            "memory usage: 65.5+ KB\n"
          ],
          "name": "stdout"
        },
        {
          "output_type": "execute_result",
          "data": {
            "text/html": [
              "<div>\n",
              "<style scoped>\n",
              "    .dataframe tbody tr th:only-of-type {\n",
              "        vertical-align: middle;\n",
              "    }\n",
              "\n",
              "    .dataframe tbody tr th {\n",
              "        vertical-align: top;\n",
              "    }\n",
              "\n",
              "    .dataframe thead th {\n",
              "        text-align: right;\n",
              "    }\n",
              "</style>\n",
              "<table border=\"1\" class=\"dataframe\">\n",
              "  <thead>\n",
              "    <tr style=\"text-align: right;\">\n",
              "      <th></th>\n",
              "      <th>Survived</th>\n",
              "      <th>Pclass</th>\n",
              "      <th>Title</th>\n",
              "      <th>First_Middle Name</th>\n",
              "      <th>Last_Name</th>\n",
              "      <th>Sex</th>\n",
              "      <th>Age</th>\n",
              "      <th>Age_Group</th>\n",
              "      <th>SibSp</th>\n",
              "      <th>Parch</th>\n",
              "      <th>Ticket_Letter_Code</th>\n",
              "      <th>Ticket_Number</th>\n",
              "      <th>Fare</th>\n",
              "      <th>Fare_Group</th>\n",
              "      <th>Cabin_Letter</th>\n",
              "      <th>Cabin_Number</th>\n",
              "      <th>Embarked</th>\n",
              "    </tr>\n",
              "  </thead>\n",
              "  <tbody>\n",
              "    <tr>\n",
              "      <th>0</th>\n",
              "      <td>0</td>\n",
              "      <td>3</td>\n",
              "      <td>Mr</td>\n",
              "      <td>Owen Harris</td>\n",
              "      <td>Braund</td>\n",
              "      <td>male</td>\n",
              "      <td>22.0</td>\n",
              "      <td>Young Adults</td>\n",
              "      <td>1</td>\n",
              "      <td>0</td>\n",
              "      <td>A/5</td>\n",
              "      <td>21171</td>\n",
              "      <td>7.2500</td>\n",
              "      <td>&lt;=$7.9</td>\n",
              "      <td>NaN</td>\n",
              "      <td>NaN</td>\n",
              "      <td>S</td>\n",
              "    </tr>\n",
              "    <tr>\n",
              "      <th>1</th>\n",
              "      <td>1</td>\n",
              "      <td>1</td>\n",
              "      <td>Mrs</td>\n",
              "      <td>John Bradley (Florence Briggs Thayer)</td>\n",
              "      <td>Cumings</td>\n",
              "      <td>female</td>\n",
              "      <td>38.0</td>\n",
              "      <td>Middle-Age</td>\n",
              "      <td>1</td>\n",
              "      <td>0</td>\n",
              "      <td>PC</td>\n",
              "      <td>17599</td>\n",
              "      <td>71.2833</td>\n",
              "      <td>&gt;$31</td>\n",
              "      <td>C</td>\n",
              "      <td>[85]</td>\n",
              "      <td>C</td>\n",
              "    </tr>\n",
              "    <tr>\n",
              "      <th>2</th>\n",
              "      <td>1</td>\n",
              "      <td>3</td>\n",
              "      <td>Miss</td>\n",
              "      <td>Laina</td>\n",
              "      <td>Heikkinen</td>\n",
              "      <td>female</td>\n",
              "      <td>26.0</td>\n",
              "      <td>Young Adults</td>\n",
              "      <td>0</td>\n",
              "      <td>0</td>\n",
              "      <td>STON/O2.</td>\n",
              "      <td>3101282</td>\n",
              "      <td>7.9250</td>\n",
              "      <td>($7.9,$14.5]</td>\n",
              "      <td>NaN</td>\n",
              "      <td>NaN</td>\n",
              "      <td>S</td>\n",
              "    </tr>\n",
              "    <tr>\n",
              "      <th>3</th>\n",
              "      <td>1</td>\n",
              "      <td>1</td>\n",
              "      <td>Mrs</td>\n",
              "      <td>Jacques Heath (Lily May Peel)</td>\n",
              "      <td>Futrelle</td>\n",
              "      <td>female</td>\n",
              "      <td>35.0</td>\n",
              "      <td>Young Adults</td>\n",
              "      <td>1</td>\n",
              "      <td>0</td>\n",
              "      <td>NaN</td>\n",
              "      <td>113803</td>\n",
              "      <td>53.1000</td>\n",
              "      <td>&gt;$31</td>\n",
              "      <td>C</td>\n",
              "      <td>[123]</td>\n",
              "      <td>S</td>\n",
              "    </tr>\n",
              "    <tr>\n",
              "      <th>4</th>\n",
              "      <td>0</td>\n",
              "      <td>3</td>\n",
              "      <td>Mr</td>\n",
              "      <td>William Henry</td>\n",
              "      <td>Allen</td>\n",
              "      <td>male</td>\n",
              "      <td>35.0</td>\n",
              "      <td>Young Adults</td>\n",
              "      <td>0</td>\n",
              "      <td>0</td>\n",
              "      <td>NaN</td>\n",
              "      <td>373450</td>\n",
              "      <td>8.0500</td>\n",
              "      <td>($7.9,$14.5]</td>\n",
              "      <td>NaN</td>\n",
              "      <td>NaN</td>\n",
              "      <td>S</td>\n",
              "    </tr>\n",
              "  </tbody>\n",
              "</table>\n",
              "</div>"
            ],
            "text/plain": [
              "  Survived Pclass Title  ... Cabin_Letter Cabin_Number Embarked\n",
              "0        0      3    Mr  ...          NaN          NaN        S\n",
              "1        1      1   Mrs  ...            C         [85]        C\n",
              "2        1      3  Miss  ...          NaN          NaN        S\n",
              "3        1      1   Mrs  ...            C        [123]        S\n",
              "4        0      3    Mr  ...          NaN          NaN        S\n",
              "\n",
              "[5 rows x 17 columns]"
            ]
          },
          "metadata": {
            "tags": []
          },
          "execution_count": 30
        }
      ]
    },
    {
      "cell_type": "markdown",
      "metadata": {
        "id": "O0P7bYHX3S8y",
        "colab_type": "text"
      },
      "source": [
        "## Question 3 Engineering two more attirubtes: age groups and fare groups"
      ]
    },
    {
      "cell_type": "code",
      "metadata": {
        "id": "Q5kUw8QZ3wx5",
        "colab_type": "code",
        "outputId": "1bc4a7ff-f668-4c64-b515-e26e9d12e52b",
        "colab": {
          "base_uri": "https://localhost:8080/",
          "height": 568
        }
      },
      "source": [
        "#Engineering age_group\n",
        "age_group=[];\n",
        "\n",
        "for x in range(0,len(df)):\n",
        "  if df.Age[x]<=12:\n",
        "    age_group.append(\"Minors\")\n",
        "  elif df.Age[x]<=17:\n",
        "    age_group.append(\"Teenager\")\n",
        "  elif df.Age[x]<=35:\n",
        "    age_group.append(\"Young Adults\")\n",
        "  elif df.Age[x]<=65:\n",
        "    age_group.append(\"Middle-Age\")\n",
        "  else:\n",
        "    age_group.append(\"Seniors\")\n",
        "\n",
        "#Looking at the quartiles for Fare\n",
        "print(df.Fare.describe())\n",
        "#Engineering fare_groups using the four quartiles\n",
        "fare_group=[];\n",
        "for x in range(0,len(df)):\n",
        "  if df.Fare[x]<=7.9:\n",
        "    fare_group.append(\"<=$7.9\")\n",
        "  elif df.Fare[x]<=14.5:\n",
        "    fare_group.append(\"($7.9,$14.5]\")\n",
        "  elif df.Fare[x]<=31:\n",
        "    fare_group.append(\"($14.5, $31]\")\n",
        "  else:\n",
        "    fare_group.append(\">$31\")\n",
        "\n",
        "df.insert(7,'Age_Group',age_group)\n",
        "df.insert(13,'Fare_Group',fare_group)\n",
        "df.head()\n",
        "\n",
        "# Change the two new columns as cateogrical\n",
        "df.Age_Group=df.Age_Group.astype('category')\n",
        "df.Fare_Group=df.Fare_Group.astype('category')\n"
      ],
      "execution_count": 0,
      "outputs": [
        {
          "output_type": "stream",
          "text": [
            "count    891.000000\n",
            "mean      32.204208\n",
            "std       49.693429\n",
            "min        0.000000\n",
            "25%        7.910400\n",
            "50%       14.454200\n",
            "75%       31.000000\n",
            "max      512.329200\n",
            "Name: Fare, dtype: float64\n"
          ],
          "name": "stdout"
        },
        {
          "output_type": "error",
          "ename": "ValueError",
          "evalue": "ignored",
          "traceback": [
            "\u001b[0;31m---------------------------------------------------------------------------\u001b[0m",
            "\u001b[0;31mValueError\u001b[0m                                Traceback (most recent call last)",
            "\u001b[0;32m<ipython-input-27-9b5c654bb691>\u001b[0m in \u001b[0;36m<module>\u001b[0;34m()\u001b[0m\n\u001b[1;32m     27\u001b[0m     \u001b[0mfare_group\u001b[0m\u001b[0;34m.\u001b[0m\u001b[0mappend\u001b[0m\u001b[0;34m(\u001b[0m\u001b[0;34m\">$31\"\u001b[0m\u001b[0;34m)\u001b[0m\u001b[0;34m\u001b[0m\u001b[0;34m\u001b[0m\u001b[0m\n\u001b[1;32m     28\u001b[0m \u001b[0;34m\u001b[0m\u001b[0m\n\u001b[0;32m---> 29\u001b[0;31m \u001b[0mdf\u001b[0m\u001b[0;34m.\u001b[0m\u001b[0minsert\u001b[0m\u001b[0;34m(\u001b[0m\u001b[0;36m7\u001b[0m\u001b[0;34m,\u001b[0m\u001b[0;34m'Age_Group'\u001b[0m\u001b[0;34m,\u001b[0m\u001b[0mage_group\u001b[0m\u001b[0;34m)\u001b[0m\u001b[0;34m\u001b[0m\u001b[0;34m\u001b[0m\u001b[0m\n\u001b[0m\u001b[1;32m     30\u001b[0m \u001b[0mdf\u001b[0m\u001b[0;34m.\u001b[0m\u001b[0minsert\u001b[0m\u001b[0;34m(\u001b[0m\u001b[0;36m13\u001b[0m\u001b[0;34m,\u001b[0m\u001b[0;34m'Fare_Group'\u001b[0m\u001b[0;34m,\u001b[0m\u001b[0mfare_group\u001b[0m\u001b[0;34m)\u001b[0m\u001b[0;34m\u001b[0m\u001b[0;34m\u001b[0m\u001b[0m\n\u001b[1;32m     31\u001b[0m \u001b[0mdf\u001b[0m\u001b[0;34m.\u001b[0m\u001b[0mhead\u001b[0m\u001b[0;34m(\u001b[0m\u001b[0;34m)\u001b[0m\u001b[0;34m\u001b[0m\u001b[0;34m\u001b[0m\u001b[0m\n",
            "\u001b[0;32m/usr/local/lib/python3.6/dist-packages/pandas/core/frame.py\u001b[0m in \u001b[0;36minsert\u001b[0;34m(self, loc, column, value, allow_duplicates)\u001b[0m\n\u001b[1;32m   3589\u001b[0m         \u001b[0mself\u001b[0m\u001b[0;34m.\u001b[0m\u001b[0m_ensure_valid_index\u001b[0m\u001b[0;34m(\u001b[0m\u001b[0mvalue\u001b[0m\u001b[0;34m)\u001b[0m\u001b[0;34m\u001b[0m\u001b[0;34m\u001b[0m\u001b[0m\n\u001b[1;32m   3590\u001b[0m         \u001b[0mvalue\u001b[0m \u001b[0;34m=\u001b[0m \u001b[0mself\u001b[0m\u001b[0;34m.\u001b[0m\u001b[0m_sanitize_column\u001b[0m\u001b[0;34m(\u001b[0m\u001b[0mcolumn\u001b[0m\u001b[0;34m,\u001b[0m \u001b[0mvalue\u001b[0m\u001b[0;34m,\u001b[0m \u001b[0mbroadcast\u001b[0m\u001b[0;34m=\u001b[0m\u001b[0;32mFalse\u001b[0m\u001b[0;34m)\u001b[0m\u001b[0;34m\u001b[0m\u001b[0;34m\u001b[0m\u001b[0m\n\u001b[0;32m-> 3591\u001b[0;31m         \u001b[0mself\u001b[0m\u001b[0;34m.\u001b[0m\u001b[0m_data\u001b[0m\u001b[0;34m.\u001b[0m\u001b[0minsert\u001b[0m\u001b[0;34m(\u001b[0m\u001b[0mloc\u001b[0m\u001b[0;34m,\u001b[0m \u001b[0mcolumn\u001b[0m\u001b[0;34m,\u001b[0m \u001b[0mvalue\u001b[0m\u001b[0;34m,\u001b[0m \u001b[0mallow_duplicates\u001b[0m\u001b[0;34m=\u001b[0m\u001b[0mallow_duplicates\u001b[0m\u001b[0;34m)\u001b[0m\u001b[0;34m\u001b[0m\u001b[0;34m\u001b[0m\u001b[0m\n\u001b[0m\u001b[1;32m   3592\u001b[0m \u001b[0;34m\u001b[0m\u001b[0m\n\u001b[1;32m   3593\u001b[0m     \u001b[0;32mdef\u001b[0m \u001b[0massign\u001b[0m\u001b[0;34m(\u001b[0m\u001b[0mself\u001b[0m\u001b[0;34m,\u001b[0m \u001b[0;34m**\u001b[0m\u001b[0mkwargs\u001b[0m\u001b[0;34m)\u001b[0m\u001b[0;34m:\u001b[0m\u001b[0;34m\u001b[0m\u001b[0;34m\u001b[0m\u001b[0m\n",
            "\u001b[0;32m/usr/local/lib/python3.6/dist-packages/pandas/core/internals/managers.py\u001b[0m in \u001b[0;36minsert\u001b[0;34m(self, loc, item, value, allow_duplicates)\u001b[0m\n\u001b[1;32m   1171\u001b[0m         \u001b[0;32mif\u001b[0m \u001b[0;32mnot\u001b[0m \u001b[0mallow_duplicates\u001b[0m \u001b[0;32mand\u001b[0m \u001b[0mitem\u001b[0m \u001b[0;32min\u001b[0m \u001b[0mself\u001b[0m\u001b[0;34m.\u001b[0m\u001b[0mitems\u001b[0m\u001b[0;34m:\u001b[0m\u001b[0;34m\u001b[0m\u001b[0;34m\u001b[0m\u001b[0m\n\u001b[1;32m   1172\u001b[0m             \u001b[0;31m# Should this be a different kind of error??\u001b[0m\u001b[0;34m\u001b[0m\u001b[0;34m\u001b[0m\u001b[0;34m\u001b[0m\u001b[0m\n\u001b[0;32m-> 1173\u001b[0;31m             \u001b[0;32mraise\u001b[0m \u001b[0mValueError\u001b[0m\u001b[0;34m(\u001b[0m\u001b[0;34m\"cannot insert {}, already exists\"\u001b[0m\u001b[0;34m.\u001b[0m\u001b[0mformat\u001b[0m\u001b[0;34m(\u001b[0m\u001b[0mitem\u001b[0m\u001b[0;34m)\u001b[0m\u001b[0;34m)\u001b[0m\u001b[0;34m\u001b[0m\u001b[0;34m\u001b[0m\u001b[0m\n\u001b[0m\u001b[1;32m   1174\u001b[0m \u001b[0;34m\u001b[0m\u001b[0m\n\u001b[1;32m   1175\u001b[0m         \u001b[0;32mif\u001b[0m \u001b[0;32mnot\u001b[0m \u001b[0misinstance\u001b[0m\u001b[0;34m(\u001b[0m\u001b[0mloc\u001b[0m\u001b[0;34m,\u001b[0m \u001b[0mint\u001b[0m\u001b[0;34m)\u001b[0m\u001b[0;34m:\u001b[0m\u001b[0;34m\u001b[0m\u001b[0;34m\u001b[0m\u001b[0m\n",
            "\u001b[0;31mValueError\u001b[0m: cannot insert Age_Group, already exists"
          ]
        }
      ]
    },
    {
      "cell_type": "code",
      "metadata": {
        "id": "ZwwHnToMpQ-D",
        "colab_type": "code",
        "outputId": "fb46b3ed-99ca-4c6c-d801-15a7f43b1805",
        "colab": {
          "base_uri": "https://localhost:8080/",
          "height": 408
        }
      },
      "source": [
        "df.info()"
      ],
      "execution_count": 0,
      "outputs": [
        {
          "output_type": "stream",
          "text": [
            "<class 'pandas.core.frame.DataFrame'>\n",
            "RangeIndex: 891 entries, 0 to 890\n",
            "Data columns (total 17 columns):\n",
            "Survived              891 non-null category\n",
            "Pclass                891 non-null category\n",
            "Title                 891 non-null object\n",
            "First_Middle Name     891 non-null object\n",
            "Last_Name             891 non-null object\n",
            "Sex                   891 non-null category\n",
            "Age                   891 non-null float64\n",
            "Age_Group             891 non-null category\n",
            "SibSp                 891 non-null category\n",
            "Parch                 891 non-null category\n",
            "Ticket_Letter_Code    226 non-null object\n",
            "Ticket_Number         891 non-null object\n",
            "Fare                  891 non-null float64\n",
            "Fare_Group            891 non-null category\n",
            "Cabin_Letter          204 non-null category\n",
            "Cabin_Number          204 non-null object\n",
            "Embarked              891 non-null category\n",
            "dtypes: category(9), float64(2), object(6)\n",
            "memory usage: 65.5+ KB\n"
          ],
          "name": "stdout"
        }
      ]
    },
    {
      "cell_type": "markdown",
      "metadata": {
        "id": "nc8sXfkCaDPS",
        "colab_type": "text"
      },
      "source": [
        "Now that the attributes have been engineered and the missing vcalues have been filled in. It's time to do determine which groups are more likely to survive titanic.\n",
        "\n",
        "THe following is for **Question 1 and Question 2**"
      ]
    },
    {
      "cell_type": "code",
      "metadata": {
        "id": "kiZm55kmXEbN",
        "colab_type": "code",
        "outputId": "99041ce8-99dc-40cb-8aa8-e7b6aac8e2b2",
        "colab": {
          "base_uri": "https://localhost:8080/",
          "height": 159
        }
      },
      "source": [
        "print(pd.crosstab(df.Sex,df.Survived,margins=True))\n",
        "print('Male survival rate is',round((109/577),3))\n",
        "print('Female survival rate is',round((233/314),3))\n",
        "print('All gender survival rate is',round((342/891),3))"
      ],
      "execution_count": 0,
      "outputs": [
        {
          "output_type": "stream",
          "text": [
            "Survived    0    1  All\n",
            "Sex                    \n",
            "female     81  233  314\n",
            "male      468  109  577\n",
            "All       549  342  891\n",
            "Male survival rate is 0.189\n",
            "Female survival rate is 0.742\n",
            "All gender survival rate is 0.384\n"
          ],
          "name": "stdout"
        }
      ]
    },
    {
      "cell_type": "code",
      "metadata": {
        "id": "2UqvCUp3ahDk",
        "colab_type": "code",
        "outputId": "ee225ca7-7d3f-4fba-eff1-ebcb043dd2fd",
        "colab": {
          "base_uri": "https://localhost:8080/",
          "height": 195
        }
      },
      "source": [
        "print(pd.crosstab(df.Pclass,df.Survived,margins=True))\n",
        "print('Class 1 survival rate is',round((136/216),3))\n",
        "print('Class 2 survival rate is',round((87/184),3))\n",
        "print('Class 3 survival rate is',round((119/491),3))\n",
        "print('All class survival rate is',round((342/891),3))\n"
      ],
      "execution_count": 0,
      "outputs": [
        {
          "output_type": "stream",
          "text": [
            "Survived    0    1  All\n",
            "Pclass                 \n",
            "1          80  136  216\n",
            "2          97   87  184\n",
            "3         372  119  491\n",
            "All       549  342  891\n",
            "Class 1 survival rate is 0.63\n",
            "Class 2 survival rate is 0.473\n",
            "Class 3 survival rate is 0.242\n",
            "All class survival rate is 0.384\n"
          ],
          "name": "stdout"
        }
      ]
    },
    {
      "cell_type": "code",
      "metadata": {
        "id": "xqUiCazOcXU9",
        "colab_type": "code",
        "outputId": "50565eef-c2d8-458e-c4dd-2001d00fe051",
        "colab": {
          "base_uri": "https://localhost:8080/",
          "height": 284
        }
      },
      "source": [
        "print(pd.crosstab(df.SibSp,df.Survived,margins=True))\n",
        "print('0 Sibling/Spouse survival rate is',round((210/608),3))\n",
        "print('1 Sibling/Spouse survival rate is',round((112/209),3))\n",
        "print('2 Sibling/Spouse survival rate is',round((13/28),3))\n",
        "print('3 Sibling/Spouse survival rate is',round((4/16),3))\n",
        "print('Overall survival rate is',round((342/891),3))"
      ],
      "execution_count": 0,
      "outputs": [
        {
          "output_type": "stream",
          "text": [
            "Survived    0    1  All\n",
            "SibSp                  \n",
            "0         398  210  608\n",
            "1          97  112  209\n",
            "2          15   13   28\n",
            "3          12    4   16\n",
            "4          15    3   18\n",
            "5           5    0    5\n",
            "8           7    0    7\n",
            "All       549  342  891\n",
            "0 Sibling/Spouse survival rate is 0.345\n",
            "1 Sibling/Spouse survival rate is 0.536\n",
            "2 Sibling/Spouse survival rate is 0.464\n",
            "3 Sibling/Spouse survival rate is 0.25\n",
            "Overall survival rate is 0.384\n"
          ],
          "name": "stdout"
        }
      ]
    },
    {
      "cell_type": "code",
      "metadata": {
        "id": "7yWgSWYKehNZ",
        "colab_type": "code",
        "outputId": "c36bc6c0-00a3-45d1-8bcf-f753790ec537",
        "colab": {
          "base_uri": "https://localhost:8080/",
          "height": 301
        }
      },
      "source": [
        "print(pd.crosstab(df.Parch,df.Survived,margins=True))\n",
        "print('0 Parent/children survival rate is',round((233/678),3))\n",
        "print('1 Parent/children survival rate is',round((65/118),3))\n",
        "print('2 Parent/children survival rate is',round((40/80),3))\n",
        "print('3 Parent/children survival rate is',round((3/5),3))\n",
        "print('At least 1 Parent/children survival rate is',round((109/213),3))\n",
        "print('Overall survival rate is',round((342/891),3))"
      ],
      "execution_count": 0,
      "outputs": [
        {
          "output_type": "stream",
          "text": [
            "Survived    0    1  All\n",
            "Parch                  \n",
            "0         445  233  678\n",
            "1          53   65  118\n",
            "2          40   40   80\n",
            "3           2    3    5\n",
            "4           4    0    4\n",
            "5           4    1    5\n",
            "6           1    0    1\n",
            "All       549  342  891\n",
            "0 Parent/children survival rate is 0.344\n",
            "1 Parent/children survival rate is 0.551\n",
            "2 Parent/children survival rate is 0.5\n",
            "3 Parent/children survival rate is 0.6\n",
            "At least 1 Parent/children survival rate is 0.512\n",
            "Overall survival rate is 0.384\n"
          ],
          "name": "stdout"
        }
      ]
    },
    {
      "cell_type": "code",
      "metadata": {
        "id": "1CxNqxIsfTE1",
        "colab_type": "code",
        "outputId": "e9ec0201-6334-4ba2-abff-c7b66d2fa1a4",
        "colab": {
          "base_uri": "https://localhost:8080/",
          "height": 408
        }
      },
      "source": [
        "print(pd.crosstab(df.Embarked,df.Survived,margins=True))\n",
        "print(\"Embarked from Cherbourg survival is\",round((93/168),3))\n",
        "print(\"Embarked from Queenstown survival is\",round((30/77),3))\n",
        "print(\"Embarked from Southampton survival is\",round((219/646),3))\n",
        "\n",
        "\n",
        "print(pd.crosstab(df.Embarked,df.Pclass,margins=True))\n",
        "print(\"% Class 1 embarked from Cherbourg is\",round((85/168),3))\n",
        "print(\"% Class 1 embarked from from Queenstown is\",round((2/77),3))\n",
        "print(\"% Class 1 embarked from Southampton is\",round((129/646),3))\n",
        "\n",
        "Avg_C_Fare=stat.mean(df[df.Embarked=='C'].Fare);\n",
        "Avg_Q_Fare=stat.mean(df[df.Embarked=='Q'].Fare);\n",
        "Avg_S_Fare=stat.mean(df[df.Embarked=='S'].Fare);\n",
        "print(\"Average_Embarked from Cherbourg Fare is\",Avg_C_Fare)\n",
        "print(\"Average_Embarked from Queenstown Fare is\",Avg_Q_Fare)\n",
        "print(\"Average_Embarked from Southampton Fare is\",Avg_S_Fare)\n",
        "print(\"Average Fare is\",stat.mean(df.Fare))"
      ],
      "execution_count": 0,
      "outputs": [
        {
          "output_type": "stream",
          "text": [
            "Survived    0    1  All\n",
            "Embarked               \n",
            "C          75   93  168\n",
            "Q          47   30   77\n",
            "S         427  219  646\n",
            "All       549  342  891\n",
            "Embarked from Cherbourg survival is 0.554\n",
            "Embarked from Queenstown survival is 0.39\n",
            "Embarked from Southampton survival is 0.339\n",
            "Pclass      1    2    3  All\n",
            "Embarked                    \n",
            "C          85   17   66  168\n",
            "Q           2    3   72   77\n",
            "S         129  164  353  646\n",
            "All       216  184  491  891\n",
            "% Class 1 embarked from Cherbourg is 0.506\n",
            "% Class 1 embarked from from Queenstown is 0.026\n",
            "% Class 1 embarked from Southampton is 0.2\n",
            "Average_Embarked from Cherbourg Fare is 59.954144047619046\n",
            "Average_Embarked from Queenstown Fare is 13.27602987012987\n",
            "Average_Embarked from Southampton Fare is 27.243651393188856\n",
            "Average Fare is 32.204207968574636\n"
          ],
          "name": "stdout"
        }
      ]
    },
    {
      "cell_type": "code",
      "metadata": {
        "id": "F8JdfxP1spph",
        "colab_type": "code",
        "outputId": "09d93c73-a959-4eb7-bd7f-2da2f063823b",
        "colab": {
          "base_uri": "https://localhost:8080/",
          "height": 372
        }
      },
      "source": [
        "print(pd.crosstab(df.Cabin_Letter,df.Survived,margins=True))\n",
        "print(\"Cabin Letter A's Survival is\",round((7/15),3))\n",
        "print(\"Cabin Letter B's Survival is\",round((35/47),3))\n",
        "print(\"Cabin Letter C's Survival is\",round((35/59),3))\n",
        "print(\"Cabin Letter D's Survival is\",round((25/32),3))\n",
        "print(\"Cabin Letter E's Survival is\",round((24/32),3))\n",
        "print(\"With Cabin Letter's Survival is\", round((136/204),3))\n",
        "print('Overall survival rate is',round((342/891),3))\n"
      ],
      "execution_count": 0,
      "outputs": [
        {
          "output_type": "stream",
          "text": [
            "Survived       0    1  All\n",
            "Cabin_Letter              \n",
            "A              8    7   15\n",
            "B             12   35   47\n",
            "C             24   35   59\n",
            "D              8   25   33\n",
            "E              8   24   32\n",
            "F              2    7    9\n",
            "F E            0    1    1\n",
            "F G            3    0    3\n",
            "G              2    2    4\n",
            "T              1    0    1\n",
            "All           68  136  204\n",
            "Cabin Letter A's Survival is 0.467\n",
            "Cabin Letter B's Survival is 0.745\n",
            "Cabin Letter C's Survival is 0.593\n",
            "Cabin Letter D's Survival is 0.781\n",
            "Cabin Letter E's Survival is 0.75\n",
            "With Cabin Letter's Survival is 0.667\n",
            "Overall survival rate is 0.384\n"
          ],
          "name": "stdout"
        }
      ]
    },
    {
      "cell_type": "code",
      "metadata": {
        "id": "vpCZ4XnEyaBK",
        "colab_type": "code",
        "outputId": "96d0d22d-e46a-47a3-820d-10f2f8e5017e",
        "colab": {
          "base_uri": "https://localhost:8080/",
          "height": 266
        }
      },
      "source": [
        "print(pd.crosstab(df.Cabin_Letter,df.Pclass,margins=True))\n",
        "print(\"% First class with a cabin letter is\",176/204)"
      ],
      "execution_count": 0,
      "outputs": [
        {
          "output_type": "stream",
          "text": [
            "Pclass          1   2   3  All\n",
            "Cabin_Letter                  \n",
            "A              15   0   0   15\n",
            "B              47   0   0   47\n",
            "C              59   0   0   59\n",
            "D              29   4   0   33\n",
            "E              25   4   3   32\n",
            "F               0   8   1    9\n",
            "F E             0   0   1    1\n",
            "F G             0   0   3    3\n",
            "G               0   0   4    4\n",
            "T               1   0   0    1\n",
            "All           176  16  12  204\n",
            "% First class with a cabin letter is 0.8627450980392157\n"
          ],
          "name": "stdout"
        }
      ]
    },
    {
      "cell_type": "code",
      "metadata": {
        "id": "Ye5gQW1fzoLh",
        "colab_type": "code",
        "outputId": "3c3fb378-40e2-4ef5-8c04-d3a1c5cf224a",
        "colab": {
          "base_uri": "https://localhost:8080/",
          "height": 266
        }
      },
      "source": [
        "print(pd.crosstab(df.Age_Group,df.Survived,margins=True))\n",
        "print(\"Minors survival rate is\",round((42/73),3) )\n",
        "print(\"Teenager survival rate is\",round((21/44),3))\n",
        "print(\"Young Adults survival rate is\",round((196/556),3))\n",
        "print(\"Middle-Age Adults survival rate is\",round((82/210),3))\n",
        "print(\"Seniors survival rate is\",round((1/8),3))\n",
        "print('Overall survivial rate is', round((342/891),3))"
      ],
      "execution_count": 0,
      "outputs": [
        {
          "output_type": "stream",
          "text": [
            "Survived        0    1  All\n",
            "Age_Group                  \n",
            "Middle-Age    128   82  210\n",
            "Minors         31   42   73\n",
            "Seniors         7    1    8\n",
            "Teenager       23   21   44\n",
            "Young Adults  360  196  556\n",
            "All           549  342  891\n",
            "Minors survival rate is 0.575\n",
            "Teenager survival rate is 0.477\n",
            "Young Adults survival rate is 0.353\n",
            "Middle-Age Adults survival rate is 0.39\n",
            "Seniors survival rate is 0.125\n",
            "Overall survivial rate is 0.384\n"
          ],
          "name": "stdout"
        }
      ]
    },
    {
      "cell_type": "code",
      "metadata": {
        "id": "vZ_HItC--Wbw",
        "colab_type": "code",
        "outputId": "8cbf6dfe-40b5-4845-cccc-85d53e48bf09",
        "colab": {
          "base_uri": "https://localhost:8080/",
          "height": 444
        }
      },
      "source": [
        "print(pd.crosstab(df.Fare_Group,df.Survived,margins=True))\n",
        "print(\"Fare group less than $7.9 surivial is\",round((44/223),3) )\n",
        "print(\"Fare group ($7.9,$14.5] survival is)\",round((70/234),3))\n",
        "print(\"Fare group ($14.5,$31] survival is\",round((99/212),3))\n",
        "print(\"Fare group >$31 survival is\",round((129/222),3))\n",
        "print('Overall survivial rate is', round((342/891),3))\n",
        "\n",
        "print(pd.crosstab(df.Fare_Group,df.Pclass,margins=True))\n",
        "print(\"Class 1 with Fare group less than $7.9 is\",round((6/223),3) )\n",
        "print(\"Class 1 with Fare group ($7.9,$14.5] is)\",round((0/234),3))\n",
        "print(\"Class 1 Fare group ($14.5,$31] is\",round((51/212),3))\n",
        "print(\"Class 1 Fare group >$31 is\",round((216/222),3))\n",
        "print('Overall Class 1 rate is', round((216/891),3))\n"
      ],
      "execution_count": 0,
      "outputs": [
        {
          "output_type": "stream",
          "text": [
            "Survived        0    1  All\n",
            "Fare_Group                 \n",
            "($14.5, $31]  113   99  212\n",
            "($7.9,$14.5]  164   70  234\n",
            "<=$7.9        179   44  223\n",
            ">$31           93  129  222\n",
            "All           549  342  891\n",
            "Fare group less than $7.9 surivial is 0.197\n",
            "Fare group ($7.9,$14.5] survival is) 0.299\n",
            "Fare group ($14.5,$31] survival is 0.467\n",
            "Fare group >$31 survival is 0.581\n",
            "Overall survivial rate is 0.384\n",
            "Pclass          1    2    3  All\n",
            "Fare_Group                      \n",
            "($14.5, $31]   51   68   93  212\n",
            "($7.9,$14.5]    0   88  146  234\n",
            "<=$7.9          6    6  211  223\n",
            ">$31          159   22   41  222\n",
            "All           216  184  491  891\n",
            "Class 1 with Fare group less than $7.9 is 0.027\n",
            "Class 1 with Fare group ($7.9,$14.5] is) 0.0\n",
            "Class 1 Fare group ($14.5,$31] is 0.241\n",
            "Class 1 Fare group >$31 is 0.973\n",
            "Overall Class 1 rate is 0.242\n"
          ],
          "name": "stdout"
        }
      ]
    },
    {
      "cell_type": "code",
      "metadata": {
        "id": "01a_NBX7-bma",
        "colab_type": "code",
        "colab": {}
      },
      "source": [
        ""
      ],
      "execution_count": 0,
      "outputs": []
    }
  ]
}