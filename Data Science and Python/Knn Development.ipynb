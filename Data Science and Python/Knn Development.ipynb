{
 "cells": [
  {
   "cell_type": "code",
   "execution_count": 66,
   "metadata": {},
   "outputs": [],
   "source": [
    "import pandas as pd\n",
    "from math import sqrt"
   ]
  },
  {
   "cell_type": "code",
   "execution_count": 11,
   "metadata": {},
   "outputs": [],
   "source": [
    "df=pd.read_csv('Iris_Data.csv',names=[\"Sepal Length (cm)\",\"Sepal Width (cm)\",\"Petal Length (cm)\", \"Petal Width (cm)\", \"Class\"])"
   ]
  },
  {
   "cell_type": "code",
   "execution_count": 122,
   "metadata": {},
   "outputs": [],
   "source": [
    "# Defining function for euclidean distance for rows of vectors\n",
    "def euclid (x1,x2):\n",
    "    dist=0;\n",
    "    for i in range(0,len(x1)-1):\n",
    "        dist_x=(x1[i]-x2[i])**2\n",
    "        dist=dist+dist_x\n",
    "    dist=sqrt(dist)\n",
    "    return dist\n"
   ]
  },
  {
   "cell_type": "code",
   "execution_count": 123,
   "metadata": {},
   "outputs": [],
   "source": [
    "#Locate Nearest Neighbours\n",
    "def near_neighbours (iris_df,test_data,k_n):\n",
    "    dis=[];\n",
    "    for i in range(0,len(iris_df)):\n",
    "        row=iris_df.iloc[i];\n",
    "        dis.append([row,euclid(test_data,row)])\n",
    "    from operator import itemgetter\n",
    "    dis_sort=sorted(dis,key=itemgetter(1))\n",
    "    return dis_sort[:k_n];\n"
   ]
  },
  {
   "cell_type": "code",
   "execution_count": 124,
   "metadata": {},
   "outputs": [],
   "source": [
    "#Make prediction\n",
    "def prediction(iris_df,test_data,k_n):\n",
    "    neighbours=near_neighbours(iris_df,test_data,k_n)\n",
    "    class_result=[];\n",
    "    for i in range(0,k_n):\n",
    "        class_result.append(neighbours[0][0]['Class'])\n",
    "    return max(set(class_result), key=class_result.count)"
   ]
  },
  {
   "cell_type": "code",
   "execution_count": 125,
   "metadata": {},
   "outputs": [
    {
     "data": {
      "text/plain": [
       "'Iris-setosa'"
      ]
     },
     "execution_count": 125,
     "metadata": {},
     "output_type": "execute_result"
    }
   ],
   "source": [
    "prediction(df,[4.5, 2.3, 1.3, 0.3],5)"
   ]
  },
  {
   "cell_type": "code",
   "execution_count": null,
   "metadata": {},
   "outputs": [],
   "source": []
  }
 ],
 "metadata": {
  "kernelspec": {
   "display_name": "Python 3",
   "language": "python",
   "name": "python3"
  },
  "language_info": {
   "codemirror_mode": {
    "name": "ipython",
    "version": 3
   },
   "file_extension": ".py",
   "mimetype": "text/x-python",
   "name": "python",
   "nbconvert_exporter": "python",
   "pygments_lexer": "ipython3",
   "version": "3.7.4"
  }
 },
 "nbformat": 4,
 "nbformat_minor": 2
}
