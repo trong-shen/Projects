{
 "cells": [
  {
   "cell_type": "code",
   "execution_count": 1,
   "metadata": {},
   "outputs": [
    {
     "name": "stdout",
     "output_type": "stream",
     "text": [
      "Data set length : 150\n"
     ]
    }
   ],
   "source": [
    "import csv\n",
    "with open('Iris_Data.csv', 'r') as csvFile:\n",
    "    lines = csv.reader(csvFile)\n",
    "    data = list(lines)\n",
    "print(\"Data set length :\" , len(data))"
   ]
  },
  {
   "cell_type": "code",
   "execution_count": 2,
   "metadata": {},
   "outputs": [],
   "source": [
    "import csv\n",
    "import random\n",
    "def loadDataSet (fileName, split, trainingSet =[], testSet=[]):\n",
    "    with open(fileName,'r') as csvFile:\n",
    "        lines = csv.reader(csvFile)\n",
    "        dataSet = list(lines)\n",
    "        #Convert data into float\n",
    "        \n",
    "        for x in range(len(dataSet)):\n",
    "            for y in range(4):\n",
    "                dataSet[x][y] = float(dataSet[x][y])\n",
    "    \n",
    "            if (random.random()> split):\n",
    "                trainingSet.append(dataSet[x])\n",
    "            else:\n",
    "                testSet.append(dataSet[x])"
   ]
  },
  {
   "cell_type": "code",
   "execution_count": 3,
   "metadata": {},
   "outputs": [
    {
     "name": "stdout",
     "output_type": "stream",
     "text": [
      "Training Set Length:  54\n",
      "Test Set Length:  96\n"
     ]
    }
   ],
   "source": [
    "trainingSet = []\n",
    "testSet = []\n",
    "loadDataSet('Iris_Data.csv', 0.66, trainingSet, testSet)\n",
    "print('Training Set Length: ', repr(len(trainingSet)))\n",
    "print('Test Set Length: ', repr(len(testSet)))"
   ]
  },
  {
   "cell_type": "code",
   "execution_count": 4,
   "metadata": {},
   "outputs": [],
   "source": [
    "import math\n",
    "def euclideanDistance (instance1, instance2, length):\n",
    "    distance=0\n",
    "    for i in range(length):\n",
    "        distance+= pow((instance1[i]-instance2[i]),2)\n",
    "    return math.sqrt(distance)"
   ]
  },
  {
   "cell_type": "code",
   "execution_count": 5,
   "metadata": {},
   "outputs": [
    {
     "name": "stdout",
     "output_type": "stream",
     "text": [
      "Distance:  5.196152422706632\n"
     ]
    }
   ],
   "source": [
    "data1 = [1, 1, 1, 'b']\n",
    "data2 = [4, 4, 4, 'b']\n",
    "distance1 = euclideanDistance(data1, data2, 3)\n",
    "print ('Distance: ' , repr(distance1))"
   ]
  },
  {
   "cell_type": "code",
   "execution_count": 6,
   "metadata": {},
   "outputs": [],
   "source": [
    "import operator\n",
    "def getNeighbors(trainingSet, testInstance, k):\n",
    "    distances=[]\n",
    "    for x in range(len(trainingSet)):\n",
    "        dist = euclideanDistance(trainingSet[x],testInstance,4)\n",
    "        distances.append((trainingSet[x],dist))                     \n",
    "    distances.sort(key=operator.itemgetter(1))\n",
    "    neighbors= []\n",
    "    for x in range(k):\n",
    "        neighbors.append(distances[x][0])\n",
    "    return neighbors"
   ]
  },
  {
   "cell_type": "code",
   "execution_count": 7,
   "metadata": {},
   "outputs": [
    {
     "name": "stdout",
     "output_type": "stream",
     "text": [
      "Training Set Length:  50\n",
      "Test Set Length:  100\n"
     ]
    },
    {
     "data": {
      "text/plain": [
       "[[5.0, 2.3, 3.3, 1.0, 'Iris-versicolor'],\n",
       " [4.9, 2.4, 3.3, 1.0, 'Iris-versicolor'],\n",
       " [5.5, 2.4, 3.8, 1.1, 'Iris-versicolor']]"
      ]
     },
     "execution_count": 7,
     "metadata": {},
     "output_type": "execute_result"
    }
   ],
   "source": [
    "trainingSet = []\n",
    "testSet = []\n",
    "loadDataSet('Iris_Data.csv', 0.66, trainingSet, testSet)\n",
    "print('Training Set Length: ', repr(len(trainingSet)))\n",
    "print('Test Set Length: ', repr(len(testSet)))\n",
    "\n",
    "neighbors1 = []\n",
    "neighbors1 = getNeighbors(trainingSet,testSet[39], 3)\n",
    "neighbors1\n",
    "#print(neighbors1[0][-1])"
   ]
  },
  {
   "cell_type": "code",
   "execution_count": 8,
   "metadata": {},
   "outputs": [],
   "source": [
    "import operator\n",
    "def getResponse(neighbors):\n",
    "    classVotes={}\n",
    "    for x in range(len(neighbors)):\n",
    "        response = neighbors[x][-1]\n",
    "        if response in classVotes:\n",
    "            classVotes[response]+=1\n",
    "        else:\n",
    "            classVotes[response]= 1\n",
    "    sortedVotes = sorted(classVotes.items(),key=operator.itemgetter(1), reverse=True)\n",
    "    return sortedVotes[0][0]"
   ]
  },
  {
   "cell_type": "code",
   "execution_count": 9,
   "metadata": {},
   "outputs": [
    {
     "data": {
      "text/plain": [
       "'Iris-versicolor'"
      ]
     },
     "execution_count": 9,
     "metadata": {},
     "output_type": "execute_result"
    }
   ],
   "source": [
    "response = getResponse(neighbors1)\n",
    "response"
   ]
  },
  {
   "cell_type": "code",
   "execution_count": 10,
   "metadata": {},
   "outputs": [],
   "source": [
    "def getAccuracy(testSet, predictions):\n",
    "    correct = 0\n",
    "    result = 0.0\n",
    "    for x in range(len(testSet)):\n",
    "        if (testSet[x][-1] == predictions[x]):\n",
    "            correct+=1\n",
    "    result = correct/float(len(testSet))*100\n",
    "    return result"
   ]
  },
  {
   "cell_type": "code",
   "execution_count": 11,
   "metadata": {},
   "outputs": [
    {
     "name": "stdout",
     "output_type": "stream",
     "text": [
      "Training Set :  45\n",
      "Test Set:  105\n",
      "\u001b[32m> predicted='Iris-setosa', actual='Iris-setosa' \u001b[32m\n",
      "\u001b[32m> predicted='Iris-setosa', actual='Iris-setosa' \u001b[32m\n",
      "\u001b[32m> predicted='Iris-setosa', actual='Iris-setosa' \u001b[32m\n",
      "\u001b[32m> predicted='Iris-setosa', actual='Iris-setosa' \u001b[32m\n",
      "\u001b[32m> predicted='Iris-setosa', actual='Iris-setosa' \u001b[32m\n",
      "\u001b[32m> predicted='Iris-setosa', actual='Iris-setosa' \u001b[32m\n",
      "\u001b[32m> predicted='Iris-setosa', actual='Iris-setosa' \u001b[32m\n",
      "\u001b[32m> predicted='Iris-setosa', actual='Iris-setosa' \u001b[32m\n",
      "\u001b[32m> predicted='Iris-setosa', actual='Iris-setosa' \u001b[32m\n",
      "\u001b[32m> predicted='Iris-setosa', actual='Iris-setosa' \u001b[32m\n",
      "\u001b[32m> predicted='Iris-setosa', actual='Iris-setosa' \u001b[32m\n",
      "\u001b[32m> predicted='Iris-setosa', actual='Iris-setosa' \u001b[32m\n",
      "\u001b[32m> predicted='Iris-setosa', actual='Iris-setosa' \u001b[32m\n",
      "\u001b[32m> predicted='Iris-setosa', actual='Iris-setosa' \u001b[32m\n",
      "\u001b[32m> predicted='Iris-setosa', actual='Iris-setosa' \u001b[32m\n",
      "\u001b[32m> predicted='Iris-setosa', actual='Iris-setosa' \u001b[32m\n",
      "\u001b[32m> predicted='Iris-setosa', actual='Iris-setosa' \u001b[32m\n",
      "\u001b[32m> predicted='Iris-setosa', actual='Iris-setosa' \u001b[32m\n",
      "\u001b[32m> predicted='Iris-setosa', actual='Iris-setosa' \u001b[32m\n",
      "\u001b[32m> predicted='Iris-setosa', actual='Iris-setosa' \u001b[32m\n",
      "\u001b[32m> predicted='Iris-setosa', actual='Iris-setosa' \u001b[32m\n",
      "\u001b[32m> predicted='Iris-setosa', actual='Iris-setosa' \u001b[32m\n",
      "\u001b[32m> predicted='Iris-setosa', actual='Iris-setosa' \u001b[32m\n",
      "\u001b[32m> predicted='Iris-setosa', actual='Iris-setosa' \u001b[32m\n",
      "\u001b[32m> predicted='Iris-setosa', actual='Iris-setosa' \u001b[32m\n",
      "\u001b[32m> predicted='Iris-setosa', actual='Iris-setosa' \u001b[32m\n",
      "\u001b[32m> predicted='Iris-setosa', actual='Iris-setosa' \u001b[32m\n",
      "\u001b[32m> predicted='Iris-setosa', actual='Iris-setosa' \u001b[32m\n",
      "\u001b[32m> predicted='Iris-setosa', actual='Iris-setosa' \u001b[32m\n",
      "\u001b[32m> predicted='Iris-setosa', actual='Iris-setosa' \u001b[32m\n",
      "\u001b[32m> predicted='Iris-setosa', actual='Iris-setosa' \u001b[32m\n",
      "\u001b[32m> predicted='Iris-setosa', actual='Iris-setosa' \u001b[32m\n",
      "\u001b[32m> predicted='Iris-versicolor', actual='Iris-versicolor' \u001b[32m\n",
      "\u001b[32m> predicted='Iris-versicolor', actual='Iris-versicolor' \u001b[32m\n",
      "\u001b[32m> predicted='Iris-versicolor', actual='Iris-versicolor' \u001b[32m\n",
      "\u001b[32m> predicted='Iris-versicolor', actual='Iris-versicolor' \u001b[32m\n",
      "\u001b[32m> predicted='Iris-versicolor', actual='Iris-versicolor' \u001b[32m\n",
      "\u001b[32m> predicted='Iris-versicolor', actual='Iris-versicolor' \u001b[32m\n",
      "\u001b[32m> predicted='Iris-versicolor', actual='Iris-versicolor' \u001b[32m\n",
      "\u001b[32m> predicted='Iris-versicolor', actual='Iris-versicolor' \u001b[32m\n",
      "\u001b[32m> predicted='Iris-versicolor', actual='Iris-versicolor' \u001b[32m\n",
      "\u001b[32m> predicted='Iris-versicolor', actual='Iris-versicolor' \u001b[32m\n",
      "\u001b[32m> predicted='Iris-versicolor', actual='Iris-versicolor' \u001b[32m\n",
      "\u001b[32m> predicted='Iris-versicolor', actual='Iris-versicolor' \u001b[32m\n",
      "\u001b[32m> predicted='Iris-versicolor', actual='Iris-versicolor' \u001b[32m\n",
      "\u001b[32m> predicted='Iris-versicolor', actual='Iris-versicolor' \u001b[32m\n",
      "\u001b[32m> predicted='Iris-versicolor', actual='Iris-versicolor' \u001b[32m\n",
      "\u001b[32m> predicted='Iris-versicolor', actual='Iris-versicolor' \u001b[32m\n",
      "\u001b[32m> predicted='Iris-versicolor', actual='Iris-versicolor' \u001b[32m\n",
      "\u001b[32m> predicted='Iris-versicolor', actual='Iris-versicolor' \u001b[32m\n",
      "\u001b[32m> predicted='Iris-versicolor', actual='Iris-versicolor' \u001b[32m\n",
      "\u001b[31m> predicted='Iris-virginica', actual='Iris-versicolor' \u001b[31m\n",
      "\u001b[32m> predicted='Iris-versicolor', actual='Iris-versicolor' \u001b[32m\n",
      "\u001b[32m> predicted='Iris-versicolor', actual='Iris-versicolor' \u001b[32m\n",
      "\u001b[32m> predicted='Iris-versicolor', actual='Iris-versicolor' \u001b[32m\n",
      "\u001b[32m> predicted='Iris-versicolor', actual='Iris-versicolor' \u001b[32m\n",
      "\u001b[31m> predicted='Iris-virginica', actual='Iris-versicolor' \u001b[31m\n",
      "\u001b[32m> predicted='Iris-versicolor', actual='Iris-versicolor' \u001b[32m\n",
      "\u001b[32m> predicted='Iris-versicolor', actual='Iris-versicolor' \u001b[32m\n",
      "\u001b[32m> predicted='Iris-versicolor', actual='Iris-versicolor' \u001b[32m\n",
      "\u001b[32m> predicted='Iris-versicolor', actual='Iris-versicolor' \u001b[32m\n",
      "\u001b[32m> predicted='Iris-versicolor', actual='Iris-versicolor' \u001b[32m\n",
      "\u001b[32m> predicted='Iris-versicolor', actual='Iris-versicolor' \u001b[32m\n",
      "\u001b[32m> predicted='Iris-versicolor', actual='Iris-versicolor' \u001b[32m\n",
      "\u001b[32m> predicted='Iris-versicolor', actual='Iris-versicolor' \u001b[32m\n",
      "\u001b[32m> predicted='Iris-versicolor', actual='Iris-versicolor' \u001b[32m\n",
      "\u001b[32m> predicted='Iris-versicolor', actual='Iris-versicolor' \u001b[32m\n",
      "\u001b[32m> predicted='Iris-versicolor', actual='Iris-versicolor' \u001b[32m\n",
      "\u001b[32m> predicted='Iris-versicolor', actual='Iris-versicolor' \u001b[32m\n",
      "\u001b[32m> predicted='Iris-virginica', actual='Iris-virginica' \u001b[32m\n",
      "\u001b[32m> predicted='Iris-virginica', actual='Iris-virginica' \u001b[32m\n",
      "\u001b[32m> predicted='Iris-virginica', actual='Iris-virginica' \u001b[32m\n",
      "\u001b[32m> predicted='Iris-virginica', actual='Iris-virginica' \u001b[32m\n",
      "\u001b[32m> predicted='Iris-virginica', actual='Iris-virginica' \u001b[32m\n",
      "\u001b[31m> predicted='Iris-versicolor', actual='Iris-virginica' \u001b[31m\n",
      "\u001b[32m> predicted='Iris-virginica', actual='Iris-virginica' \u001b[32m\n",
      "\u001b[32m> predicted='Iris-virginica', actual='Iris-virginica' \u001b[32m\n",
      "\u001b[32m> predicted='Iris-virginica', actual='Iris-virginica' \u001b[32m\n",
      "\u001b[32m> predicted='Iris-virginica', actual='Iris-virginica' \u001b[32m\n",
      "\u001b[32m> predicted='Iris-virginica', actual='Iris-virginica' \u001b[32m\n",
      "\u001b[32m> predicted='Iris-virginica', actual='Iris-virginica' \u001b[32m\n",
      "\u001b[32m> predicted='Iris-virginica', actual='Iris-virginica' \u001b[32m\n",
      "\u001b[32m> predicted='Iris-virginica', actual='Iris-virginica' \u001b[32m\n",
      "\u001b[32m> predicted='Iris-virginica', actual='Iris-virginica' \u001b[32m\n",
      "\u001b[32m> predicted='Iris-virginica', actual='Iris-virginica' \u001b[32m\n",
      "\u001b[32m> predicted='Iris-virginica', actual='Iris-virginica' \u001b[32m\n",
      "\u001b[32m> predicted='Iris-virginica', actual='Iris-virginica' \u001b[32m\n",
      "\u001b[32m> predicted='Iris-virginica', actual='Iris-virginica' \u001b[32m\n",
      "\u001b[32m> predicted='Iris-virginica', actual='Iris-virginica' \u001b[32m\n",
      "\u001b[32m> predicted='Iris-virginica', actual='Iris-virginica' \u001b[32m\n",
      "\u001b[32m> predicted='Iris-virginica', actual='Iris-virginica' \u001b[32m\n",
      "\u001b[32m> predicted='Iris-virginica', actual='Iris-virginica' \u001b[32m\n",
      "\u001b[32m> predicted='Iris-virginica', actual='Iris-virginica' \u001b[32m\n",
      "\u001b[32m> predicted='Iris-virginica', actual='Iris-virginica' \u001b[32m\n",
      "\u001b[32m> predicted='Iris-virginica', actual='Iris-virginica' \u001b[32m\n",
      "\u001b[32m> predicted='Iris-virginica', actual='Iris-virginica' \u001b[32m\n",
      "\u001b[32m> predicted='Iris-virginica', actual='Iris-virginica' \u001b[32m\n",
      "\u001b[32m> predicted='Iris-virginica', actual='Iris-virginica' \u001b[32m\n",
      "\u001b[32m> predicted='Iris-virginica', actual='Iris-virginica' \u001b[32m\n",
      "\u001b[32m> predicted='Iris-virginica', actual='Iris-virginica' \u001b[32m\n",
      "\u001b[32m> predicted='Iris-virginica', actual='Iris-virginica' \u001b[32m\n",
      "\u001b[32m> predicted='Iris-virginica', actual='Iris-virginica' \u001b[32m\n",
      "\u001b[32m> predicted='Iris-virginica', actual='Iris-virginica' \u001b[32m\n",
      "\u001b[32m> predicted='Iris-virginica', actual='Iris-virginica' \u001b[32m\n",
      "\u001b[32m> predicted='Iris-virginica', actual='Iris-virginica' \u001b[32m\n"
     ]
    },
    {
     "data": {
      "text/plain": [
       "97.14285714285714"
      ]
     },
     "execution_count": 11,
     "metadata": {},
     "output_type": "execute_result"
    }
   ],
   "source": [
    "import operator\n",
    "import math\n",
    "import random\n",
    "import csv\n",
    "\n",
    "def main():\n",
    "    trainingSet=[]\n",
    "    testSet=[]\n",
    "    predictions = []\n",
    "    \n",
    "    k=5\n",
    "    \n",
    "    #######################################################################\n",
    "    def loadDataSet (fileName, split, trainingSet =[], testSet=[]):\n",
    "        with open(fileName,'r') as csvFile:\n",
    "            lines = csv.reader(csvFile)\n",
    "            dataSet = list(lines)\n",
    "            #Convert data into float\n",
    "\n",
    "            for x in range(len(dataSet)):\n",
    "                for y in range(4):\n",
    "                    dataSet[x][y] = float(dataSet[x][y])\n",
    "\n",
    "                if (random.random()> split):\n",
    "                    trainingSet.append(dataSet[x])\n",
    "                else:\n",
    "                    testSet.append(dataSet[x])\n",
    "                \n",
    "                \n",
    "    ##########################################################################\n",
    "    def euclideanDistance (instance1, instance2, length):\n",
    "        distance=0\n",
    "        for i in range(length):\n",
    "            distance+= pow((instance1[i]-instance2[i]),2)\n",
    "        return math.sqrt(distance)\n",
    "    \n",
    "    ##########################################################################\n",
    "    \n",
    "    def getNeighbors(trainingSet, testInstance, k):\n",
    "        distances=[]\n",
    "        for x in range(len(trainingSet)):\n",
    "            dist = euclideanDistance(trainingSet[x],testInstance,4)\n",
    "            distances.append((trainingSet[x],dist))                     \n",
    "        distances.sort(key=operator.itemgetter(1))\n",
    "        neighbors= []\n",
    "        for x in range(k):\n",
    "            neighbors.append(distances[x][0])\n",
    "        return neighbors\n",
    "\n",
    "    ############################################################################\n",
    "    \n",
    "    def getResponse(neighbors):\n",
    "        classVotes={}\n",
    "        for x in range(len(neighbors)):\n",
    "            response = neighbors[x][-1]\n",
    "            if response in classVotes:\n",
    "                classVotes[response]+=1\n",
    "            else:\n",
    "                classVotes[response]= 1\n",
    "        sortedVotes = sorted(classVotes.items(),key=operator.itemgetter(1), reverse=True)\n",
    "        return sortedVotes[0][0]\n",
    "\n",
    "    ###############################################################################\n",
    "    \n",
    "    def getAccuracy(testSet, predictions):\n",
    "        correct = 0\n",
    "        result = 0.0\n",
    "        for x in range(len(testSet)):\n",
    "            if (testSet[x][-1] == predictions[x]):\n",
    "                correct+=1\n",
    "        result = correct/float(len(testSet))*100\n",
    "        return result\n",
    "\n",
    "    ##############################################################################\n",
    "    \n",
    "    \n",
    "    loadDataSet('Iris_Data.csv',0.66,trainingSet,testSet)\n",
    "    print(\"Training Set : \" ,len(trainingSet))\n",
    "    print(\"Test Set: \",len(testSet))\n",
    "    \n",
    "    for x in range(len(testSet)):\n",
    "        neighbors = getNeighbors(trainingSet,testSet[x],k)\n",
    "        aPrediction = getResponse(neighbors)\n",
    "        predictions.append(aPrediction)\n",
    "        if (aPrediction == testSet[x][-1]):\n",
    "            print ('\\033[32m' + '> predicted=' + repr(aPrediction) + ', actual=' + repr(testSet[x][-1]), '\\033[32m' )\n",
    "        else:\n",
    "            print ('\\033[31m' + '> predicted=' + repr(aPrediction) + ', actual=' + repr(testSet[x][-1]), '\\033[31m' )\n",
    "    result = getAccuracy(testSet,predictions)\n",
    "    return result\n",
    "\n",
    "main()"
   ]
  },
  {
   "cell_type": "code",
   "execution_count": null,
   "metadata": {
    "collapsed": true
   },
   "outputs": [],
   "source": []
  }
 ],
 "metadata": {
  "kernelspec": {
   "display_name": "Python 3",
   "language": "python",
   "name": "python3"
  },
  "language_info": {
   "codemirror_mode": {
    "name": "ipython",
    "version": 3
   },
   "file_extension": ".py",
   "mimetype": "text/x-python",
   "name": "python",
   "nbconvert_exporter": "python",
   "pygments_lexer": "ipython3",
   "version": "3.6.6"
  },
  "toc": {
   "base_numbering": 1,
   "nav_menu": {},
   "number_sections": true,
   "sideBar": true,
   "skip_h1_title": true,
   "title_cell": "Table of Contents",
   "title_sidebar": "Contents",
   "toc_cell": false,
   "toc_position": {},
   "toc_section_display": true,
   "toc_window_display": false
  }
 },
 "nbformat": 4,
 "nbformat_minor": 2
}
